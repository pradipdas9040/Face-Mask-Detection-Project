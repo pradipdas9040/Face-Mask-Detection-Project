{
 "cells": [
  {
   "cell_type": "markdown",
   "id": "cea02fbd",
   "metadata": {},
   "source": [
    "# Face mask detection using CNN"
   ]
  },
  {
   "cell_type": "code",
   "execution_count": 1,
   "id": "b7e82150",
   "metadata": {},
   "outputs": [],
   "source": [
    "import numpy as np\n",
    "import pandas as pd\n",
    "import seaborn as sns\n",
    "from datetime import datetime\n",
    "import matplotlib.pyplot as plt\n",
    "\n",
    "# For reading images and image manipulation\n",
    "import os\n",
    "import cv2\n",
    "import glob\n",
    "\n",
    "# For Machine Learning\n",
    "import tensorflow as tf\n",
    "from tensorflow import keras \n",
    "from keras.models import Sequential\n",
    "from tensorflow.keras.optimizers import Adam\n",
    "from sklearn.preprocessing import LabelEncoder\n",
    "from tensorflow.keras.utils import to_categorical\n",
    "from sklearn.model_selection import train_test_split\n",
    "from keras.layers import Dense, Activation, Flatten, Conv2D, MaxPooling2D, Dropout\n",
    "\n",
    "# For confusion matrix, precision, recall,  f1-score\n",
    "import itertools\n",
    "from sklearn import metrics\n",
    "from sklearn.metrics import confusion_matrix\n",
    "\n",
    "# To export the tested model into a pickle file\n",
    "import pickle"
   ]
  },
  {
   "cell_type": "code",
   "execution_count": 2,
   "id": "c056b9df",
   "metadata": {},
   "outputs": [
    {
     "data": {
      "text/plain": [
       "['no_mask', 'with_mask']"
      ]
     },
     "execution_count": 2,
     "metadata": {},
     "output_type": "execute_result"
    }
   ],
   "source": [
    "os.listdir('dataset')"
   ]
  },
  {
   "cell_type": "code",
   "execution_count": 3,
   "id": "3e3715bf",
   "metadata": {},
   "outputs": [],
   "source": [
    "images_no_mask = [cv2.imread(file, cv2.IMREAD_GRAYSCALE) for file in glob.glob('dataset/no_mask/**/*.png',recursive=True)]\n",
    "images_with_mask = [cv2.imread(file, cv2.IMREAD_GRAYSCALE) for file in glob.glob('dataset/with_mask/**/*.png',recursive=True)]"
   ]
  },
  {
   "cell_type": "code",
   "execution_count": 4,
   "id": "353b96f7",
   "metadata": {},
   "outputs": [
    {
     "name": "stdout",
     "output_type": "stream",
     "text": [
      "Number of image without mask: 446\n",
      "Number of image with mask: 470\n"
     ]
    }
   ],
   "source": [
    "print(\"Number of image without mask:\",len(images_no_mask))\n",
    "print(\"Number of image with mask:\",len(images_with_mask))"
   ]
  },
  {
   "cell_type": "markdown",
   "id": "5eff7fb9",
   "metadata": {},
   "source": [
    "#### Making dataframe with images and their level"
   ]
  },
  {
   "cell_type": "markdown",
   "id": "418828c1",
   "metadata": {},
   "source": [
    "***Level:***\n",
    "- with_mask : 0\n",
    "- no_mask : 1"
   ]
  },
  {
   "cell_type": "code",
   "execution_count": 5,
   "id": "6f1f8826",
   "metadata": {},
   "outputs": [],
   "source": [
    "y_0 = np.zeros(len(images_with_mask))\n",
    "y_1 = np.ones(len(images_no_mask))"
   ]
  },
  {
   "cell_type": "code",
   "execution_count": 6,
   "id": "b5c6cd02",
   "metadata": {},
   "outputs": [
    {
     "name": "stderr",
     "output_type": "stream",
     "text": [
      "C:\\Users\\Pradip\\AppData\\Roaming\\Python\\Python310\\site-packages\\pandas\\core\\internals\\construction.py:576: VisibleDeprecationWarning: Creating an ndarray from ragged nested sequences (which is a list-or-tuple of lists-or-tuples-or ndarrays with different lengths or shapes) is deprecated. If you meant to do this, you must specify 'dtype=object' when creating the ndarray.\n",
      "  values = np.array([convert(v) for v in values])\n"
     ]
    }
   ],
   "source": [
    "df1 = pd.DataFrame(images_no_mask)\n",
    "df2 = pd.DataFrame(images_with_mask)"
   ]
  },
  {
   "cell_type": "code",
   "execution_count": 7,
   "id": "d8e8c27a",
   "metadata": {},
   "outputs": [],
   "source": [
    "df1['level'] = y_1\n",
    "df2['level'] = y_0"
   ]
  },
  {
   "cell_type": "code",
   "execution_count": 8,
   "id": "4fd786b7",
   "metadata": {},
   "outputs": [
    {
     "data": {
      "text/html": [
       "<div>\n",
       "<style scoped>\n",
       "    .dataframe tbody tr th:only-of-type {\n",
       "        vertical-align: middle;\n",
       "    }\n",
       "\n",
       "    .dataframe tbody tr th {\n",
       "        vertical-align: top;\n",
       "    }\n",
       "\n",
       "    .dataframe thead th {\n",
       "        text-align: right;\n",
       "    }\n",
       "</style>\n",
       "<table border=\"1\" class=\"dataframe\">\n",
       "  <thead>\n",
       "    <tr style=\"text-align: right;\">\n",
       "      <th></th>\n",
       "      <th>0</th>\n",
       "      <th>level</th>\n",
       "    </tr>\n",
       "  </thead>\n",
       "  <tbody>\n",
       "    <tr>\n",
       "      <th>0</th>\n",
       "      <td>[[43, 43, 43, 43, 43, 43, 43, 43, 43, 43, 43, ...</td>\n",
       "      <td>1.0</td>\n",
       "    </tr>\n",
       "    <tr>\n",
       "      <th>1</th>\n",
       "      <td>[[65, 51, 41, 38, 31, 25, 32, 48, 48, 57, 66, ...</td>\n",
       "      <td>1.0</td>\n",
       "    </tr>\n",
       "    <tr>\n",
       "      <th>2</th>\n",
       "      <td>[[108, 108, 118, 138, 148, 136, 111, 90, 76, 7...</td>\n",
       "      <td>1.0</td>\n",
       "    </tr>\n",
       "  </tbody>\n",
       "</table>\n",
       "</div>"
      ],
      "text/plain": [
       "                                                   0  level\n",
       "0  [[43, 43, 43, 43, 43, 43, 43, 43, 43, 43, 43, ...    1.0\n",
       "1  [[65, 51, 41, 38, 31, 25, 32, 48, 48, 57, 66, ...    1.0\n",
       "2  [[108, 108, 118, 138, 148, 136, 111, 90, 76, 7...    1.0"
      ]
     },
     "execution_count": 8,
     "metadata": {},
     "output_type": "execute_result"
    }
   ],
   "source": [
    "df1.head(3)"
   ]
  },
  {
   "cell_type": "code",
   "execution_count": 9,
   "id": "65ca5859",
   "metadata": {},
   "outputs": [
    {
     "data": {
      "text/html": [
       "<div>\n",
       "<style scoped>\n",
       "    .dataframe tbody tr th:only-of-type {\n",
       "        vertical-align: middle;\n",
       "    }\n",
       "\n",
       "    .dataframe tbody tr th {\n",
       "        vertical-align: top;\n",
       "    }\n",
       "\n",
       "    .dataframe thead th {\n",
       "        text-align: right;\n",
       "    }\n",
       "</style>\n",
       "<table border=\"1\" class=\"dataframe\">\n",
       "  <thead>\n",
       "    <tr style=\"text-align: right;\">\n",
       "      <th></th>\n",
       "      <th>0</th>\n",
       "      <th>level</th>\n",
       "    </tr>\n",
       "  </thead>\n",
       "  <tbody>\n",
       "    <tr>\n",
       "      <th>0</th>\n",
       "      <td>[[195, 194, 194, 193, 193, 193, 192, 192, 192,...</td>\n",
       "      <td>0.0</td>\n",
       "    </tr>\n",
       "    <tr>\n",
       "      <th>1</th>\n",
       "      <td>[[28, 28, 28, 28, 28, 21, 21, 21, 28, 28, 28, ...</td>\n",
       "      <td>0.0</td>\n",
       "    </tr>\n",
       "    <tr>\n",
       "      <th>2</th>\n",
       "      <td>[[64, 96, 159, 118, 127, 143, 156, 151, 155, 1...</td>\n",
       "      <td>0.0</td>\n",
       "    </tr>\n",
       "  </tbody>\n",
       "</table>\n",
       "</div>"
      ],
      "text/plain": [
       "                                                   0  level\n",
       "0  [[195, 194, 194, 193, 193, 193, 192, 192, 192,...    0.0\n",
       "1  [[28, 28, 28, 28, 28, 21, 21, 21, 28, 28, 28, ...    0.0\n",
       "2  [[64, 96, 159, 118, 127, 143, 156, 151, 155, 1...    0.0"
      ]
     },
     "execution_count": 9,
     "metadata": {},
     "output_type": "execute_result"
    }
   ],
   "source": [
    "df2.head(3)"
   ]
  },
  {
   "cell_type": "code",
   "execution_count": 10,
   "id": "b161f253",
   "metadata": {},
   "outputs": [],
   "source": [
    "df = pd.concat([df1, df2], ignore_index=True) # Concate two leveled dataframe"
   ]
  },
  {
   "cell_type": "code",
   "execution_count": 11,
   "id": "98a05bf8",
   "metadata": {},
   "outputs": [
    {
     "data": {
      "text/html": [
       "<div>\n",
       "<style scoped>\n",
       "    .dataframe tbody tr th:only-of-type {\n",
       "        vertical-align: middle;\n",
       "    }\n",
       "\n",
       "    .dataframe tbody tr th {\n",
       "        vertical-align: top;\n",
       "    }\n",
       "\n",
       "    .dataframe thead th {\n",
       "        text-align: right;\n",
       "    }\n",
       "</style>\n",
       "<table border=\"1\" class=\"dataframe\">\n",
       "  <thead>\n",
       "    <tr style=\"text-align: right;\">\n",
       "      <th></th>\n",
       "      <th>0</th>\n",
       "      <th>level</th>\n",
       "    </tr>\n",
       "  </thead>\n",
       "  <tbody>\n",
       "    <tr>\n",
       "      <th>0</th>\n",
       "      <td>[[43, 43, 43, 43, 43, 43, 43, 43, 43, 43, 43, ...</td>\n",
       "      <td>1.0</td>\n",
       "    </tr>\n",
       "    <tr>\n",
       "      <th>1</th>\n",
       "      <td>[[65, 51, 41, 38, 31, 25, 32, 48, 48, 57, 66, ...</td>\n",
       "      <td>1.0</td>\n",
       "    </tr>\n",
       "    <tr>\n",
       "      <th>2</th>\n",
       "      <td>[[108, 108, 118, 138, 148, 136, 111, 90, 76, 7...</td>\n",
       "      <td>1.0</td>\n",
       "    </tr>\n",
       "  </tbody>\n",
       "</table>\n",
       "</div>"
      ],
      "text/plain": [
       "                                                   0  level\n",
       "0  [[43, 43, 43, 43, 43, 43, 43, 43, 43, 43, 43, ...    1.0\n",
       "1  [[65, 51, 41, 38, 31, 25, 32, 48, 48, 57, 66, ...    1.0\n",
       "2  [[108, 108, 118, 138, 148, 136, 111, 90, 76, 7...    1.0"
      ]
     },
     "execution_count": 11,
     "metadata": {},
     "output_type": "execute_result"
    }
   ],
   "source": [
    "df.head(3)"
   ]
  },
  {
   "cell_type": "code",
   "execution_count": 12,
   "id": "16e9ccd5",
   "metadata": {},
   "outputs": [
    {
     "data": {
      "text/html": [
       "<div>\n",
       "<style scoped>\n",
       "    .dataframe tbody tr th:only-of-type {\n",
       "        vertical-align: middle;\n",
       "    }\n",
       "\n",
       "    .dataframe tbody tr th {\n",
       "        vertical-align: top;\n",
       "    }\n",
       "\n",
       "    .dataframe thead th {\n",
       "        text-align: right;\n",
       "    }\n",
       "</style>\n",
       "<table border=\"1\" class=\"dataframe\">\n",
       "  <thead>\n",
       "    <tr style=\"text-align: right;\">\n",
       "      <th></th>\n",
       "      <th>0</th>\n",
       "      <th>level</th>\n",
       "    </tr>\n",
       "  </thead>\n",
       "  <tbody>\n",
       "    <tr>\n",
       "      <th>913</th>\n",
       "      <td>[[235, 228, 213, 205, 211, 213, 217, 220, 213,...</td>\n",
       "      <td>0.0</td>\n",
       "    </tr>\n",
       "    <tr>\n",
       "      <th>914</th>\n",
       "      <td>[[235, 240, 244, 243, 242, 242, 242, 244, 246,...</td>\n",
       "      <td>0.0</td>\n",
       "    </tr>\n",
       "    <tr>\n",
       "      <th>915</th>\n",
       "      <td>[[63, 63, 62, 60, 59, 58, 58, 59, 60, 61, 61, ...</td>\n",
       "      <td>0.0</td>\n",
       "    </tr>\n",
       "  </tbody>\n",
       "</table>\n",
       "</div>"
      ],
      "text/plain": [
       "                                                     0  level\n",
       "913  [[235, 228, 213, 205, 211, 213, 217, 220, 213,...    0.0\n",
       "914  [[235, 240, 244, 243, 242, 242, 242, 244, 246,...    0.0\n",
       "915  [[63, 63, 62, 60, 59, 58, 58, 59, 60, 61, 61, ...    0.0"
      ]
     },
     "execution_count": 12,
     "metadata": {},
     "output_type": "execute_result"
    }
   ],
   "source": [
    "df.tail(3)"
   ]
  },
  {
   "cell_type": "code",
   "execution_count": 13,
   "id": "ff2afd17",
   "metadata": {},
   "outputs": [
    {
     "data": {
      "text/html": [
       "<div>\n",
       "<style scoped>\n",
       "    .dataframe tbody tr th:only-of-type {\n",
       "        vertical-align: middle;\n",
       "    }\n",
       "\n",
       "    .dataframe tbody tr th {\n",
       "        vertical-align: top;\n",
       "    }\n",
       "\n",
       "    .dataframe thead th {\n",
       "        text-align: right;\n",
       "    }\n",
       "</style>\n",
       "<table border=\"1\" class=\"dataframe\">\n",
       "  <thead>\n",
       "    <tr style=\"text-align: right;\">\n",
       "      <th></th>\n",
       "      <th>image</th>\n",
       "      <th>level</th>\n",
       "    </tr>\n",
       "  </thead>\n",
       "  <tbody>\n",
       "    <tr>\n",
       "      <th>0</th>\n",
       "      <td>[[43, 43, 43, 43, 43, 43, 43, 43, 43, 43, 43, ...</td>\n",
       "      <td>1.0</td>\n",
       "    </tr>\n",
       "    <tr>\n",
       "      <th>1</th>\n",
       "      <td>[[65, 51, 41, 38, 31, 25, 32, 48, 48, 57, 66, ...</td>\n",
       "      <td>1.0</td>\n",
       "    </tr>\n",
       "    <tr>\n",
       "      <th>2</th>\n",
       "      <td>[[108, 108, 118, 138, 148, 136, 111, 90, 76, 7...</td>\n",
       "      <td>1.0</td>\n",
       "    </tr>\n",
       "  </tbody>\n",
       "</table>\n",
       "</div>"
      ],
      "text/plain": [
       "                                               image  level\n",
       "0  [[43, 43, 43, 43, 43, 43, 43, 43, 43, 43, 43, ...    1.0\n",
       "1  [[65, 51, 41, 38, 31, 25, 32, 48, 48, 57, 66, ...    1.0\n",
       "2  [[108, 108, 118, 138, 148, 136, 111, 90, 76, 7...    1.0"
      ]
     },
     "execution_count": 13,
     "metadata": {},
     "output_type": "execute_result"
    }
   ],
   "source": [
    "df3 = df.rename(columns={0 : \"image\"})\n",
    "df3.head(3)"
   ]
  },
  {
   "cell_type": "code",
   "execution_count": 14,
   "id": "199f6a18",
   "metadata": {},
   "outputs": [
    {
     "data": {
      "text/html": [
       "<div>\n",
       "<style scoped>\n",
       "    .dataframe tbody tr th:only-of-type {\n",
       "        vertical-align: middle;\n",
       "    }\n",
       "\n",
       "    .dataframe tbody tr th {\n",
       "        vertical-align: top;\n",
       "    }\n",
       "\n",
       "    .dataframe thead th {\n",
       "        text-align: right;\n",
       "    }\n",
       "</style>\n",
       "<table border=\"1\" class=\"dataframe\">\n",
       "  <thead>\n",
       "    <tr style=\"text-align: right;\">\n",
       "      <th></th>\n",
       "      <th>image</th>\n",
       "      <th>level</th>\n",
       "    </tr>\n",
       "  </thead>\n",
       "  <tbody>\n",
       "    <tr>\n",
       "      <th>0</th>\n",
       "      <td>[[167, 166, 166, 166, 166, 163, 164, 164, 164,...</td>\n",
       "      <td>0.0</td>\n",
       "    </tr>\n",
       "    <tr>\n",
       "      <th>1</th>\n",
       "      <td>[[130, 143, 164, 191, 202, 217, 223, 227, 229,...</td>\n",
       "      <td>0.0</td>\n",
       "    </tr>\n",
       "    <tr>\n",
       "      <th>2</th>\n",
       "      <td>[[13, 16, 18, 15, 7, 1, 0, 2, 12, 18, 22, 23, ...</td>\n",
       "      <td>1.0</td>\n",
       "    </tr>\n",
       "    <tr>\n",
       "      <th>3</th>\n",
       "      <td>[[0, 0, 21, 21, 21, 21, 21, 21, 21, 0, 0, 0, 0...</td>\n",
       "      <td>0.0</td>\n",
       "    </tr>\n",
       "    <tr>\n",
       "      <th>4</th>\n",
       "      <td>[[28, 28, 28, 28, 28, 28, 28, 28, 28, 28, 28, ...</td>\n",
       "      <td>0.0</td>\n",
       "    </tr>\n",
       "    <tr>\n",
       "      <th>5</th>\n",
       "      <td>[[219, 211, 202, 201, 203, 204, 199, 192, 182,...</td>\n",
       "      <td>1.0</td>\n",
       "    </tr>\n",
       "    <tr>\n",
       "      <th>6</th>\n",
       "      <td>[[21, 26, 30, 28, 28, 28, 24, 19, 8, 11, 13, 1...</td>\n",
       "      <td>1.0</td>\n",
       "    </tr>\n",
       "    <tr>\n",
       "      <th>7</th>\n",
       "      <td>[[230, 230, 230, 230, 230, 230, 230, 230, 230,...</td>\n",
       "      <td>0.0</td>\n",
       "    </tr>\n",
       "    <tr>\n",
       "      <th>8</th>\n",
       "      <td>[[173, 173, 173, 173, 172, 172, 172, 172, 172,...</td>\n",
       "      <td>0.0</td>\n",
       "    </tr>\n",
       "    <tr>\n",
       "      <th>9</th>\n",
       "      <td>[[34, 34, 34, 34, 34, 34, 34, 34, 34, 34, 34, ...</td>\n",
       "      <td>0.0</td>\n",
       "    </tr>\n",
       "  </tbody>\n",
       "</table>\n",
       "</div>"
      ],
      "text/plain": [
       "                                               image  level\n",
       "0  [[167, 166, 166, 166, 166, 163, 164, 164, 164,...    0.0\n",
       "1  [[130, 143, 164, 191, 202, 217, 223, 227, 229,...    0.0\n",
       "2  [[13, 16, 18, 15, 7, 1, 0, 2, 12, 18, 22, 23, ...    1.0\n",
       "3  [[0, 0, 21, 21, 21, 21, 21, 21, 21, 0, 0, 0, 0...    0.0\n",
       "4  [[28, 28, 28, 28, 28, 28, 28, 28, 28, 28, 28, ...    0.0\n",
       "5  [[219, 211, 202, 201, 203, 204, 199, 192, 182,...    1.0\n",
       "6  [[21, 26, 30, 28, 28, 28, 24, 19, 8, 11, 13, 1...    1.0\n",
       "7  [[230, 230, 230, 230, 230, 230, 230, 230, 230,...    0.0\n",
       "8  [[173, 173, 173, 173, 172, 172, 172, 172, 172,...    0.0\n",
       "9  [[34, 34, 34, 34, 34, 34, 34, 34, 34, 34, 34, ...    0.0"
      ]
     },
     "execution_count": 14,
     "metadata": {},
     "output_type": "execute_result"
    }
   ],
   "source": [
    "df4 = df3.sample(frac=1).reset_index(drop=True) # Shuffle the dataframe and reindexing\n",
    "df4.head(10)"
   ]
  },
  {
   "cell_type": "code",
   "execution_count": 15,
   "id": "8ecd0e5c",
   "metadata": {},
   "outputs": [
    {
     "data": {
      "text/plain": [
       "image    2\n",
       "level    0\n",
       "dtype: int64"
      ]
     },
     "execution_count": 15,
     "metadata": {},
     "output_type": "execute_result"
    }
   ],
   "source": [
    "df4.isnull().sum()"
   ]
  },
  {
   "cell_type": "code",
   "execution_count": 16,
   "id": "94927d9c",
   "metadata": {},
   "outputs": [],
   "source": [
    "df5 = df4.dropna() # Drop null values"
   ]
  },
  {
   "cell_type": "code",
   "execution_count": 17,
   "id": "944df0fc",
   "metadata": {},
   "outputs": [
    {
     "data": {
      "text/plain": [
       "image    0\n",
       "level    0\n",
       "dtype: int64"
      ]
     },
     "execution_count": 17,
     "metadata": {},
     "output_type": "execute_result"
    }
   ],
   "source": [
    "df5.isnull().sum()"
   ]
  },
  {
   "cell_type": "markdown",
   "id": "3130c81a",
   "metadata": {},
   "source": [
    "#### Ploting the number of data in each level"
   ]
  },
  {
   "cell_type": "code",
   "execution_count": 18,
   "id": "68686af3",
   "metadata": {},
   "outputs": [],
   "source": [
    "def change_width(ax, new_value) :\n",
    "    for patch in ax.patches :\n",
    "        current_width = patch.get_width()\n",
    "        diff = current_width - new_value\n",
    "\n",
    "        # we change the bar width\n",
    "        patch.set_width(new_value)\n",
    "\n",
    "        # we recenter the bar\n",
    "        patch.set_x(patch.get_x() + diff * .5)"
   ]
  },
  {
   "cell_type": "code",
   "execution_count": 19,
   "id": "db240dcf",
   "metadata": {},
   "outputs": [
    {
     "data": {
      "image/png": "[encoded data removed]",
      "text/plain": [
       "<Figure size 576x360 with 1 Axes>"
      ]
     },
     "metadata": {
      "needs_background": "light"
     },
     "output_type": "display_data"
    }
   ],
   "source": [
    "sns.set_style()\n",
    "fig, ax = plt.subplots(figsize=(8,5))\n",
    "sns.barplot(x=df5.level.unique(),y=df5.level.value_counts(),palette='winter',ax=ax)\n",
    "change_width(ax, .20)\n",
    "plt.show()"
   ]
  },
  {
   "cell_type": "code",
   "execution_count": 20,
   "id": "737679fa",
   "metadata": {},
   "outputs": [
    {
     "name": "stderr",
     "output_type": "stream",
     "text": [
      "C:\\Users\\Pradip\\AppData\\Roaming\\Python\\Python310\\site-packages\\seaborn\\distributions.py:2619: FutureWarning: `distplot` is a deprecated function and will be removed in a future version. Please adapt your code to use either `displot` (a figure-level function with similar flexibility) or `histplot` (an axes-level function for histograms).\n",
      "  warnings.warn(msg, FutureWarning)\n"
     ]
    },
    {
     "data": {
      "text/plain": [
       "<AxesSubplot:>"
      ]
     },
     "execution_count": 20,
     "metadata": {},
     "output_type": "execute_result"
    },
    {
     "data": {
      "image/png": "[encoded data removed]",
      "text/plain": [
       "<Figure size 432x288 with 1 Axes>"
      ]
     },
     "metadata": {
      "needs_background": "light"
     },
     "output_type": "display_data"
    }
   ],
   "source": [
    "sizes = df5['level'].values\n",
    "sns.distplot(sizes, kde=False)"
   ]
  },
  {
   "cell_type": "markdown",
   "id": "7ce22f56",
   "metadata": {},
   "source": [
    "#### Plot of the images"
   ]
  },
  {
   "cell_type": "code",
   "execution_count": 21,
   "id": "07f0ec34",
   "metadata": {},
   "outputs": [
    {
     "data": {
      "image/png": "[encoded data removed]",
      "text/plain": [
       "<Figure size 432x288 with 1 Axes>"
      ]
     },
     "metadata": {
      "needs_background": "light"
     },
     "output_type": "display_data"
    }
   ],
   "source": [
    "plt.imshow(df3['image'][55])\n",
    "plt.show()"
   ]
  },
  {
   "cell_type": "code",
   "execution_count": 22,
   "id": "75ff0ca0",
   "metadata": {},
   "outputs": [
    {
     "data": {
      "image/png": "[encoded data removed]",
      "text/plain": [
       "<Figure size 432x288 with 1 Axes>"
      ]
     },
     "metadata": {
      "needs_background": "light"
     },
     "output_type": "display_data"
    }
   ],
   "source": [
    "plt.imshow(df5['image'][0])\n",
    "plt.show()"
   ]
  },
  {
   "cell_type": "code",
   "execution_count": 23,
   "id": "b707c6bf",
   "metadata": {},
   "outputs": [],
   "source": [
    "X = df5['image']\n",
    "y = df5['level']"
   ]
  },
  {
   "cell_type": "code",
   "execution_count": 24,
   "id": "fbdfc449",
   "metadata": {},
   "outputs": [],
   "source": [
    "data = []\n",
    "for im in X:\n",
    "    new = cv2.resize(im, (50,50)) # Resizing the image\n",
    "    data.append(new)"
   ]
  },
  {
   "cell_type": "code",
   "execution_count": 25,
   "id": "1e7960db",
   "metadata": {},
   "outputs": [
    {
     "data": {
      "text/plain": [
       "list"
      ]
     },
     "execution_count": 25,
     "metadata": {},
     "output_type": "execute_result"
    }
   ],
   "source": [
    "X_tt = []\n",
    "for im in data:\n",
    "    X_tt.append(tf.convert_to_tensor(im))\n",
    "type(X_tt)"
   ]
  },
  {
   "cell_type": "code",
   "execution_count": 26,
   "id": "e79b33ab",
   "metadata": {},
   "outputs": [
    {
     "data": {
      "image/png": "[encoded data removed]",
      "text/plain": [
       "<Figure size 432x288 with 1 Axes>"
      ]
     },
     "metadata": {
      "needs_background": "light"
     },
     "output_type": "display_data"
    }
   ],
   "source": [
    "plt.imshow(X_tt[10])\n",
    "plt.show()"
   ]
  },
  {
   "cell_type": "code",
   "execution_count": 27,
   "id": "63aa7498",
   "metadata": {},
   "outputs": [],
   "source": [
    "x = np.array(X_tt).reshape(-1, 50, 50, 1)"
   ]
  },
  {
   "cell_type": "code",
   "execution_count": 28,
   "id": "f88b61dc",
   "metadata": {},
   "outputs": [
    {
     "data": {
      "image/png": "[encoded data removed]",
      "text/plain": [
       "<Figure size 432x288 with 1 Axes>"
      ]
     },
     "metadata": {
      "needs_background": "light"
     },
     "output_type": "display_data"
    }
   ],
   "source": [
    "plt.imshow(x[10])\n",
    "plt.show()"
   ]
  },
  {
   "cell_type": "code",
   "execution_count": 29,
   "id": "6bcb78fa",
   "metadata": {},
   "outputs": [
    {
     "data": {
      "text/plain": [
       "(914, 50, 50, 1)"
      ]
     },
     "execution_count": 29,
     "metadata": {},
     "output_type": "execute_result"
    }
   ],
   "source": [
    "x.shape"
   ]
  },
  {
   "cell_type": "code",
   "execution_count": 30,
   "id": "b50df8e3",
   "metadata": {},
   "outputs": [],
   "source": [
    "# Label encoding y\n",
    "lbl = LabelEncoder()\n",
    "y = lbl.fit_transform(y)\n",
    "\n",
    "# Converting it into a categorical variable\n",
    "y = to_categorical(y)"
   ]
  },
  {
   "cell_type": "code",
   "execution_count": 31,
   "id": "13cfdd03",
   "metadata": {},
   "outputs": [
    {
     "data": {
      "text/plain": [
       "(914, 2)"
      ]
     },
     "execution_count": 31,
     "metadata": {},
     "output_type": "execute_result"
    }
   ],
   "source": [
    "y.shape"
   ]
  },
  {
   "cell_type": "markdown",
   "id": "d87af73c",
   "metadata": {},
   "source": [
    "#### Split dataset into train and test"
   ]
  },
  {
   "cell_type": "code",
   "execution_count": 32,
   "id": "d19c7ae2",
   "metadata": {},
   "outputs": [],
   "source": [
    "X_train, X_test, y_train, y_test = train_test_split(x, y, test_size=0.25, random_state=42)"
   ]
  },
  {
   "cell_type": "code",
   "execution_count": 33,
   "id": "f4819c88",
   "metadata": {},
   "outputs": [
    {
     "name": "stdout",
     "output_type": "stream",
     "text": [
      "Training Features Shape:  (685, 50, 50, 1)\n",
      "Training Labels Shape:  (685, 2)\n",
      "Testing Features Shape:  (229, 50, 50, 1)\n",
      "Testing Labels Shape:  (229, 2)\n"
     ]
    }
   ],
   "source": [
    "print('Training Features Shape: ', X_train.shape)\n",
    "print('Training Labels Shape: ', y_train.shape)\n",
    "print('Testing Features Shape: ', X_test.shape)\n",
    "print('Testing Labels Shape: ', y_test.shape)"
   ]
  },
  {
   "cell_type": "markdown",
   "id": "226f97b4",
   "metadata": {},
   "source": [
    "#### Creating the CNN architecture using the Sequential model from TensorFlow"
   ]
  },
  {
   "cell_type": "code",
   "execution_count": 34,
   "id": "eead2b46",
   "metadata": {},
   "outputs": [
    {
     "name": "stdout",
     "output_type": "stream",
     "text": [
      "(50, 50, 1)\n"
     ]
    }
   ],
   "source": [
    "input_img_shape = x.shape[1:]\n",
    "print(input_img_shape)"
   ]
  },
  {
   "cell_type": "code",
   "execution_count": 35,
   "id": "e4953214",
   "metadata": {},
   "outputs": [
    {
     "name": "stdout",
     "output_type": "stream",
     "text": [
      "Model: \"sequential\"\n",
      "_________________________________________________________________\n",
      " Layer (type)                Output Shape              Param #   \n",
      "=================================================================\n",
      " conv2d (Conv2D)             (None, 24, 24, 100)       1000      \n",
      "                                                                 \n",
      " max_pooling2d (MaxPooling2D  (None, 12, 12, 100)      0         \n",
      " )                                                               \n",
      "                                                                 \n",
      " conv2d_1 (Conv2D)           (None, 10, 10, 64)        57664     \n",
      "                                                                 \n",
      " max_pooling2d_1 (MaxPooling  (None, 5, 5, 64)         0         \n",
      " 2D)                                                             \n",
      "                                                                 \n",
      " flatten (Flatten)           (None, 1600)              0         \n",
      "                                                                 \n",
      " dense (Dense)               (None, 50)                80050     \n",
      "                                                                 \n",
      " dropout (Dropout)           (None, 50)                0         \n",
      "                                                                 \n",
      " dense_1 (Dense)             (None, 2)                 102       \n",
      "                                                                 \n",
      "=================================================================\n",
      "Total params: 138,816\n",
      "Trainable params: 138,816\n",
      "Non-trainable params: 0\n",
      "_________________________________________________________________\n"
     ]
    }
   ],
   "source": [
    "# Initializing a sequential keras model\n",
    "model = Sequential()\n",
    "\n",
    "# Adding a 2D convolution layer\n",
    "model.add(\n",
    "    Conv2D(\n",
    "        filters=100,\n",
    "        kernel_size=(3, 3),\n",
    "        use_bias=True,\n",
    "        input_shape=input_img_shape,\n",
    "        activation=\"relu\",\n",
    "        strides=2,\n",
    "    )\n",
    ")\n",
    "\n",
    "# Adding a max-pooling layer\n",
    "model.add(MaxPooling2D(pool_size=(2, 2)))\n",
    "\n",
    "# Adding a 2D convolution layer - Output Shape = 10 x 10 x 64\n",
    "model.add(Conv2D(filters=64, kernel_size=(3, 3), use_bias=True, activation=\"relu\"))\n",
    "\n",
    "# Adding a max-pooling layer - Output Shape = 5 x 5 x 64\n",
    "model.add(MaxPooling2D(pool_size=(2, 2)))\n",
    "\n",
    "# Adding a flatten layer - Output Shape = 5 x 5 x 64 = 1600\n",
    "model.add(Flatten())\n",
    "\n",
    "# Adding a dense layer - Output Shape = 50\n",
    "model.add(Dense(50, activation=\"relu\"))\n",
    "\n",
    "# Adding a dropout\n",
    "model.add(Dropout(0.2))\n",
    "\n",
    "# Adding a dense layer with softmax activation\n",
    "model.add(Dense(2, activation=\"softmax\"))\n",
    "\n",
    "# Printing the model summary\n",
    "model.summary()"
   ]
  },
  {
   "cell_type": "code",
   "execution_count": 36,
   "id": "dafc7572",
   "metadata": {},
   "outputs": [
    {
     "name": "stderr",
     "output_type": "stream",
     "text": [
      "C:\\Users\\Pradip\\AppData\\Roaming\\Python\\Python310\\site-packages\\keras\\optimizer_v2\\adam.py:105: UserWarning: The `lr` argument is deprecated, use `learning_rate` instead.\n",
      "  super(Adam, self).__init__(name, **kwargs)\n"
     ]
    },
    {
     "name": "stdout",
     "output_type": "stream",
     "text": [
      "Epoch 1/30\n",
      "110/110 [==============================] - 3s 18ms/step - loss: 2.4730 - accuracy: 0.6898 - val_loss: 0.3785 - val_accuracy: 0.8321\n",
      "Epoch 2/30\n",
      "110/110 [==============================] - 2s 15ms/step - loss: 0.3174 - accuracy: 0.8978 - val_loss: 0.3271 - val_accuracy: 0.8686\n",
      "Epoch 3/30\n",
      "110/110 [==============================] - 2s 15ms/step - loss: 0.2845 - accuracy: 0.9033 - val_loss: 0.2942 - val_accuracy: 0.8759\n",
      "Epoch 4/30\n",
      "110/110 [==============================] - 1s 11ms/step - loss: 0.1567 - accuracy: 0.9453 - val_loss: 0.3380 - val_accuracy: 0.8686\n",
      "Epoch 5/30\n",
      "110/110 [==============================] - 2s 14ms/step - loss: 0.1404 - accuracy: 0.9544 - val_loss: 0.3207 - val_accuracy: 0.8978\n",
      "Epoch 6/30\n",
      "110/110 [==============================] - 1s 13ms/step - loss: 0.1245 - accuracy: 0.9580 - val_loss: 0.2493 - val_accuracy: 0.8978\n",
      "Epoch 7/30\n",
      "110/110 [==============================] - 1s 13ms/step - loss: 0.0766 - accuracy: 0.9726 - val_loss: 0.1953 - val_accuracy: 0.9197\n",
      "Epoch 8/30\n",
      "110/110 [==============================] - 1s 13ms/step - loss: 0.1387 - accuracy: 0.9617 - val_loss: 0.3337 - val_accuracy: 0.9197\n",
      "Epoch 9/30\n",
      "110/110 [==============================] - 1s 13ms/step - loss: 0.2109 - accuracy: 0.9489 - val_loss: 0.2139 - val_accuracy: 0.9197\n",
      "Epoch 10/30\n",
      "110/110 [==============================] - 1s 13ms/step - loss: 0.0979 - accuracy: 0.9745 - val_loss: 0.2538 - val_accuracy: 0.8978\n",
      "Epoch 11/30\n",
      "110/110 [==============================] - 1s 13ms/step - loss: 0.1295 - accuracy: 0.9635 - val_loss: 0.3644 - val_accuracy: 0.8759\n",
      "Epoch 12/30\n",
      "110/110 [==============================] - 1s 13ms/step - loss: 0.1503 - accuracy: 0.9471 - val_loss: 0.2854 - val_accuracy: 0.9197\n",
      "Epoch 13/30\n",
      "110/110 [==============================] - 1s 13ms/step - loss: 0.1210 - accuracy: 0.9653 - val_loss: 0.2911 - val_accuracy: 0.8978\n",
      "Epoch 14/30\n",
      "110/110 [==============================] - 1s 13ms/step - loss: 0.0668 - accuracy: 0.9726 - val_loss: 0.2683 - val_accuracy: 0.9197\n",
      "Epoch 15/30\n",
      "110/110 [==============================] - 1s 13ms/step - loss: 0.0503 - accuracy: 0.9872 - val_loss: 0.2721 - val_accuracy: 0.9197\n",
      "Epoch 16/30\n",
      "110/110 [==============================] - 1s 13ms/step - loss: 0.0481 - accuracy: 0.9818 - val_loss: 0.2041 - val_accuracy: 0.9635\n",
      "Epoch 17/30\n",
      "110/110 [==============================] - 1s 13ms/step - loss: 0.0340 - accuracy: 0.9909 - val_loss: 0.2774 - val_accuracy: 0.9197\n",
      "Epoch 18/30\n",
      "110/110 [==============================] - 1s 13ms/step - loss: 0.0565 - accuracy: 0.9781 - val_loss: 0.2457 - val_accuracy: 0.9197\n",
      "Epoch 19/30\n",
      "110/110 [==============================] - 1s 13ms/step - loss: 0.0261 - accuracy: 0.9945 - val_loss: 0.3048 - val_accuracy: 0.9197\n",
      "Epoch 20/30\n",
      "110/110 [==============================] - 1s 13ms/step - loss: 0.0173 - accuracy: 0.9909 - val_loss: 0.2122 - val_accuracy: 0.9489\n",
      "Epoch 21/30\n",
      "110/110 [==============================] - 1s 12ms/step - loss: 0.0140 - accuracy: 0.9945 - val_loss: 0.2286 - val_accuracy: 0.9489\n",
      "Epoch 22/30\n",
      "110/110 [==============================] - 1s 13ms/step - loss: 0.0088 - accuracy: 0.9982 - val_loss: 0.3401 - val_accuracy: 0.9489\n",
      "Epoch 23/30\n",
      "110/110 [==============================] - 1s 13ms/step - loss: 0.0140 - accuracy: 0.9945 - val_loss: 0.4668 - val_accuracy: 0.9124\n",
      "Epoch 24/30\n",
      "110/110 [==============================] - 1s 13ms/step - loss: 0.0292 - accuracy: 0.9927 - val_loss: 0.3536 - val_accuracy: 0.9051\n",
      "Epoch 25/30\n",
      "110/110 [==============================] - 1s 13ms/step - loss: 0.0088 - accuracy: 0.9964 - val_loss: 0.5169 - val_accuracy: 0.9124\n",
      "Epoch 26/30\n",
      "110/110 [==============================] - 1s 13ms/step - loss: 0.0314 - accuracy: 0.9927 - val_loss: 0.7068 - val_accuracy: 0.8686\n",
      "Epoch 27/30\n",
      "110/110 [==============================] - 1s 13ms/step - loss: 0.2146 - accuracy: 0.9453 - val_loss: 0.2325 - val_accuracy: 0.9051\n",
      "Epoch 28/30\n",
      "110/110 [==============================] - 1s 13ms/step - loss: 0.0465 - accuracy: 0.9854 - val_loss: 0.6786 - val_accuracy: 0.8540\n",
      "Epoch 29/30\n",
      "110/110 [==============================] - 1s 13ms/step - loss: 0.0374 - accuracy: 0.9872 - val_loss: 0.2741 - val_accuracy: 0.9489\n",
      "Epoch 30/30\n",
      "110/110 [==============================] - 1s 13ms/step - loss: 0.0204 - accuracy: 0.9964 - val_loss: 0.3061 - val_accuracy: 0.9416\n",
      "*Time required to train model:  0:00:45.349404\n"
     ]
    }
   ],
   "source": [
    "start_time = datetime.now()\n",
    "\n",
    "# Initializing an Adam optimizer\n",
    "opt = Adam(lr=1e-3, decay=1e-5)\n",
    "\n",
    "# Configuring the model for training\n",
    "model.compile(optimizer=opt, loss=\"categorical_crossentropy\", metrics=[\"accuracy\"])\n",
    "\n",
    "# Training the model\n",
    "model.fit(X_train, y_train, epochs=30, batch_size=5, validation_split=0.2)\n",
    "\n",
    "end_time = datetime.now()\n",
    "print(\"*Time required to train model: \",end_time - start_time)"
   ]
  },
  {
   "cell_type": "code",
   "execution_count": 37,
   "id": "e36d21e7",
   "metadata": {},
   "outputs": [],
   "source": [
    "predictions = model.predict(X_test)"
   ]
  },
  {
   "cell_type": "code",
   "execution_count": 38,
   "id": "7992d915",
   "metadata": {},
   "outputs": [
    {
     "data": {
      "text/plain": [
       "array([[1., 0.],\n",
       "       [0., 1.],\n",
       "       [1., 0.],\n",
       "       [1., 0.],\n",
       "       [0., 1.],\n",
       "       [1., 0.],\n",
       "       [0., 1.],\n",
       "       [0., 1.],\n",
       "       [0., 1.],\n",
       "       [1., 0.]], dtype=float32)"
      ]
     },
     "execution_count": 38,
     "metadata": {},
     "output_type": "execute_result"
    }
   ],
   "source": [
    "y_test[:10]"
   ]
  },
  {
   "cell_type": "code",
   "execution_count": 39,
   "id": "3036e7af",
   "metadata": {},
   "outputs": [],
   "source": [
    "def Print_level(i):\n",
    "    plt.imshow(X_test[i].reshape(50, 50), cmap = plt.cm.binary)\n",
    "    plt.show()\n",
    "    if(np.argmax(np.round(predictions[i])) == 0):\n",
    "        return print('Images with mask'.center(50,'-'))\n",
    "    else: return print('Images with no mask'.center(60,'-'))"
   ]
  },
  {
   "cell_type": "code",
   "execution_count": 40,
   "id": "293e8698",
   "metadata": {},
   "outputs": [
    {
     "data": {
      "image/png": "[encoded data removed]",
      "text/plain": [
       "<Figure size 432x288 with 1 Axes>"
      ]
     },
     "metadata": {
      "needs_background": "light"
     },
     "output_type": "display_data"
    },
    {
     "name": "stdout",
     "output_type": "stream",
     "text": [
      "-----------------Images with mask-----------------\n"
     ]
    }
   ],
   "source": [
    "Print_level(3)"
   ]
  },
  {
   "cell_type": "code",
   "execution_count": 41,
   "id": "df611f7d",
   "metadata": {},
   "outputs": [
    {
     "data": {
      "image/png": "[encoded data removed]",
      "text/plain": [
       "<Figure size 432x288 with 1 Axes>"
      ]
     },
     "metadata": {
      "needs_background": "light"
     },
     "output_type": "display_data"
    },
    {
     "name": "stdout",
     "output_type": "stream",
     "text": [
      "-----------------Images with mask-----------------\n"
     ]
    }
   ],
   "source": [
    "Print_level(5)"
   ]
  },
  {
   "cell_type": "code",
   "execution_count": 42,
   "id": "9e01cdd6",
   "metadata": {},
   "outputs": [],
   "source": [
    "y_pred = [np.argmax(np.round(predictions[i])) for i in range(len(X_test))]\n",
    "y_true = [np.argmax(y_test[i]) for i in range(len(X_test))]"
   ]
  },
  {
   "cell_type": "code",
   "execution_count": 43,
   "id": "ce94eddd",
   "metadata": {},
   "outputs": [],
   "source": [
    "def plot_confusion_matrix(cm, classes, normalize=False, title='Confusion matrix', cmap=plt.cm.inferno):\n",
    "    \"\"\"\n",
    "    This function prints and plots the confusion matrix.\n",
    "    Normalization can be applied by setting `normalize=True`.\n",
    "    \"\"\"\n",
    "    plt.figure(figsize = (6,6))\n",
    "    plt.imshow(cm, interpolation='nearest', cmap=cmap)\n",
    "    plt.title(title)\n",
    "    plt.colorbar()\n",
    "    tick_marks = np.arange(len(classes))\n",
    "    plt.xticks(tick_marks, classes, rotation=90)\n",
    "    plt.yticks(tick_marks, classes)\n",
    "    if normalize:\n",
    "        cm = cm.astype('float') / cm.sum(axis=1)[:, np.newaxis]\n",
    "\n",
    "    thresh = cm.max() / 2.\n",
    "    cm = np.round(cm,2)\n",
    "    for i, j in itertools.product(range(cm.shape[0]), range(cm.shape[1])):\n",
    "        plt.text(j, i, cm[i, j], horizontalalignment=\"center\",\n",
    "                 color=\"black\" if cm[i, j] > thresh else \"white\")\n",
    "    plt.tight_layout()\n",
    "    plt.ylabel('True label')\n",
    "    plt.xlabel('Predicted label')\n",
    "    plt.show()"
   ]
  },
  {
   "cell_type": "code",
   "execution_count": 44,
   "id": "9f962180",
   "metadata": {},
   "outputs": [
    {
     "data": {
      "image/png": "[encoded data removed]",
      "text/plain": [
       "<Figure size 432x432 with 2 Axes>"
      ]
     },
     "metadata": {
      "needs_background": "light"
     },
     "output_type": "display_data"
    }
   ],
   "source": [
    "cm = confusion_matrix(y_true,y_pred)\n",
    "cm_plot = plot_confusion_matrix(cm,classes=['0','1'])"
   ]
  },
  {
   "cell_type": "code",
   "execution_count": 45,
   "id": "630b0295",
   "metadata": {},
   "outputs": [
    {
     "name": "stdout",
     "output_type": "stream",
     "text": [
      "Performance Report (Accuracy score is) : 0.9606986899563319 \n",
      "\n",
      "\n",
      "----------------------Classification Report---------------------- \n",
      "               precision    recall  f1-score   support\n",
      "\n",
      "           0       0.98      0.95      0.96       125\n",
      "           1       0.94      0.97      0.96       104\n",
      "\n",
      "    accuracy                           0.96       229\n",
      "   macro avg       0.96      0.96      0.96       229\n",
      "weighted avg       0.96      0.96      0.96       229\n",
      "\n"
     ]
    }
   ],
   "source": [
    "print('Performance Report (Accuracy score is) :', metrics.accuracy_score(y_true, y_pred),'\\n\\n')\n",
    "target=['0','1']\n",
    "print('Classification Report'.center(65,'-'),'\\n', metrics.classification_report(y_true,y_pred,target_names=target))"
   ]
  },
  {
   "cell_type": "markdown",
   "id": "88d7bcff",
   "metadata": {},
   "source": [
    "#### Export the tested model to a pickle file"
   ]
  },
  {
   "cell_type": "code",
   "execution_count": 46,
   "id": "04a8bc3d",
   "metadata": {},
   "outputs": [
    {
     "name": "stdout",
     "output_type": "stream",
     "text": [
      "INFO:tensorflow:Assets written to: ram://cf1a7ddc-ab40-4f78-9c8a-4a4369b46347/assets\n"
     ]
    }
   ],
   "source": [
    "with open('Face_mask_detection_model.pickle','wb') as f:\n",
    "    pickle.dump(model, f)"
   ]
  },
  {
   "cell_type": "code",
   "execution_count": null,
   "id": "1dac3a9a",
   "metadata": {},
   "outputs": [],
   "source": []
  }
 ],
 "metadata": {
  "kernelspec": {
   "display_name": "Python 3 (ipykernel)",
   "language": "python",
   "name": "python3"
  },
  "language_info": {
   "codemirror_mode": {
    "name": "ipython",
    "version": 3
   },
   "file_extension": ".py",
   "mimetype": "text/x-python",
   "name": "python",
   "nbconvert_exporter": "python",
   "pygments_lexer": "ipython3",
   "version": "3.10.2"
  }
 },
 "nbformat": 4,
 "nbformat_minor": 5
}
